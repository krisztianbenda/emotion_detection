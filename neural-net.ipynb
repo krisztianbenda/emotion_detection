{
 "cells": [
  {
   "cell_type": "code",
   "execution_count": 97,
   "metadata": {},
   "outputs": [],
   "source": [
    "from os import listdir, path, getcwd, mkdir, environ\n",
    "import shutil\n",
    "import cv2\n",
    "import glob\n",
    "from PIL import Image\n",
    "import numpy as np\n",
    "from keras.utils import to_categorical\n",
    "from sklearn.model_selection import train_test_split"
   ]
  },
  {
   "cell_type": "code",
   "execution_count": 71,
   "metadata": {},
   "outputs": [],
   "source": [
    "train_images_path = \"./images/train\"\n",
    "test_images_path = \"./images/test\"\n",
    "emotions = ['Anger', 'Disgust', 'Fear', 'Happiness', 'Sadness', 'Surprise']\n",
    "emotions_map = {'Anger': 0, 'Disgust': 1, 'Fear': 2, 'Happiness':3, 'Sadness':4, 'Surprise':5}"
   ]
  },
  {
   "cell_type": "code",
   "execution_count": 44,
   "metadata": {},
   "outputs": [
    {
     "name": "stdout",
     "output_type": "stream",
     "text": [
      "===================\n",
      "Processing emotion: Anger\n",
      "===================\n",
      "Processing emotion: Disgust\n",
      "===================\n",
      "Processing emotion: Fear\n",
      "===================\n",
      "Processing emotion: Happiness\n",
      "===================\n",
      "Processing emotion: Sadness\n",
      "===================\n",
      "Processing emotion: Surprise\n"
     ]
    }
   ],
   "source": [
    "filelist = []\n",
    "for emotion in sorted(listdir(train_images_path)):\n",
    "    if not path.isdir(path.join(train_images_path, emotion)):\n",
    "        continue\n",
    "    print(\"===================\")\n",
    "    print(\"Processing emotion: \" + emotion)\n",
    "    filelist = filelist + glob.glob(path.join(train_images_path, emotion, '*.jpg'))"
   ]
  },
  {
   "cell_type": "code",
   "execution_count": 74,
   "metadata": {},
   "outputs": [],
   "source": [
    "target = []\n",
    "for filename in filelist:\n",
    "    target.append(emotions_map[filename.split('/')[-1].split('train')[1].split('0')[0]])\n",
    "\n",
    "y = np.array(target)\n",
    "y = to_categorical(y, num_classes=6 )"
   ]
  },
  {
   "cell_type": "code",
   "execution_count": 96,
   "metadata": {},
   "outputs": [
    {
     "data": {
      "text/plain": [
       "(11965, 96, 96)"
      ]
     },
     "execution_count": 96,
     "metadata": {},
     "output_type": "execute_result"
    }
   ],
   "source": [
    "data = np.array([np.array(Image.open(img)) for img in filelist])\n",
    "data = data.astype(np.float)\n",
    "data /= 255\n",
    "data.shape"
   ]
  },
  {
   "cell_type": "code",
   "execution_count": 101,
   "metadata": {},
   "outputs": [],
   "source": [
    "X_train, X_test, y_train, y_test = train_test_split(data, y, test_size=0.2, random_state=12)"
   ]
  },
  {
   "cell_type": "code",
   "execution_count": null,
   "metadata": {},
   "outputs": [],
   "source": []
  }
 ],
 "metadata": {
  "kernelspec": {
   "display_name": "Python 3",
   "language": "python",
   "name": "python3"
  },
  "language_info": {
   "codemirror_mode": {
    "name": "ipython",
    "version": 3
   },
   "file_extension": ".py",
   "mimetype": "text/x-python",
   "name": "python",
   "nbconvert_exporter": "python",
   "pygments_lexer": "ipython3",
   "version": "3.8.5"
  }
 },
 "nbformat": 4,
 "nbformat_minor": 4
}
